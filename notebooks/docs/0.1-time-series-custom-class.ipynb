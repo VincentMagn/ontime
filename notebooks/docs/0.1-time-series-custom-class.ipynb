{
 "cells": [
  {
   "cell_type": "markdown",
   "id": "670316b8-460c-4009-a5da-94278f4ac9a9",
   "metadata": {},
   "source": [
    "# 0.1 - Time Series, Custom Class"
   ]
  },
  {
   "cell_type": "code",
   "execution_count": 1,
   "id": "52af59bb-083c-46c6-989a-bd4c65137a1a",
   "metadata": {
    "ExecuteTime": {
     "end_time": "2023-10-16T08:25:29.022573500Z",
     "start_time": "2023-10-16T08:25:28.880412Z"
    }
   },
   "outputs": [],
   "source": [
    "# Import to be able to import python package from src\n",
    "import sys\n",
    "\n",
    "sys.path.insert(0, '../src')"
   ]
  },
  {
   "cell_type": "code",
   "execution_count": 2,
   "id": "d6fc731f-3f50-4e9a-a24c-b2ab01d4fa31",
   "metadata": {
    "ExecuteTime": {
     "end_time": "2023-10-16T08:25:38.247847600Z",
     "start_time": "2023-10-16T08:25:28.880412Z"
    }
   },
   "outputs": [
    {
     "name": "stderr",
     "output_type": "stream",
     "text": [
      "C:\\Users\\vince\\AppData\\Local\\pypoetry\\Cache\\virtualenvs\\ontime-FclhqCOu-py3.11\\Lib\\site-packages\\tqdm\\auto.py:21: TqdmWarning: IProgress not found. Please update jupyter and ipywidgets. See https://ipywidgets.readthedocs.io/en/stable/user_install.html\n",
      "  from .autonotebook import tqdm as notebook_tqdm\n"
     ]
    }
   ],
   "source": [
    "import pandas as pd\n",
    "import ontime as on"
   ]
  },
  {
   "cell_type": "markdown",
   "id": "831f1944-599b-4761-a071-2a682346610a",
   "metadata": {},
   "source": [
    "---\n",
    "## Generation of random time series"
   ]
  },
  {
   "cell_type": "code",
   "execution_count": 3,
   "id": "ef3e03e1-c247-4b5a-a27a-a13361e673b0",
   "metadata": {
    "ExecuteTime": {
     "end_time": "2023-10-16T08:25:38.269319800Z",
     "start_time": "2023-10-16T08:25:38.253377300Z"
    }
   },
   "outputs": [],
   "source": [
    "ts = on.generators.random_walk().generate(start=pd.Timestamp('2022-01-01'), end=pd.Timestamp('2022-12-31'))"
   ]
  },
  {
   "cell_type": "code",
   "execution_count": 4,
   "id": "01962643-33af-4adf-8bfa-7d0163e4e41c",
   "metadata": {
    "ExecuteTime": {
     "end_time": "2023-10-16T08:25:38.350825400Z",
     "start_time": "2023-10-16T08:25:38.269319800Z"
    }
   },
   "outputs": [
    {
     "data": {
      "text/plain": "<TimeSeries (DataArray) (time: 5, component: 1, sample: 1)>\narray([[[ 2.00073295]],\n\n       [[ 1.7023812 ]],\n\n       [[-0.29720943]],\n\n       [[-0.34343923]],\n\n       [[ 0.03902981]]])\nCoordinates:\n  * time       (time) datetime64[ns] 2022-01-01 2022-01-02 ... 2022-01-05\n  * component  (component) object 'random_walk'\nDimensions without coordinates: sample\nAttributes:\n    static_covariates:  None\n    hierarchy:          None",
      "text/html": "<div><svg style=\"position: absolute; width: 0; height: 0; overflow: hidden\">\n<defs>\n<symbol id=\"icon-database\" viewBox=\"0 0 32 32\">\n<path d=\"M16 0c-8.837 0-16 2.239-16 5v4c0 2.761 7.163 5 16 5s16-2.239 16-5v-4c0-2.761-7.163-5-16-5z\"></path>\n<path d=\"M16 17c-8.837 0-16-2.239-16-5v6c0 2.761 7.163 5 16 5s16-2.239 16-5v-6c0 2.761-7.163 5-16 5z\"></path>\n<path d=\"M16 26c-8.837 0-16-2.239-16-5v6c0 2.761 7.163 5 16 5s16-2.239 16-5v-6c0 2.761-7.163 5-16 5z\"></path>\n</symbol>\n<symbol id=\"icon-file-text2\" viewBox=\"0 0 32 32\">\n<path d=\"M28.681 7.159c-0.694-0.947-1.662-2.053-2.724-3.116s-2.169-2.030-3.116-2.724c-1.612-1.182-2.393-1.319-2.841-1.319h-15.5c-1.378 0-2.5 1.121-2.5 2.5v27c0 1.378 1.122 2.5 2.5 2.5h23c1.378 0 2.5-1.122 2.5-2.5v-19.5c0-0.448-0.137-1.23-1.319-2.841zM24.543 5.457c0.959 0.959 1.712 1.825 2.268 2.543h-4.811v-4.811c0.718 0.556 1.584 1.309 2.543 2.268zM28 29.5c0 0.271-0.229 0.5-0.5 0.5h-23c-0.271 0-0.5-0.229-0.5-0.5v-27c0-0.271 0.229-0.5 0.5-0.5 0 0 15.499-0 15.5 0v7c0 0.552 0.448 1 1 1h7v19.5z\"></path>\n<path d=\"M23 26h-14c-0.552 0-1-0.448-1-1s0.448-1 1-1h14c0.552 0 1 0.448 1 1s-0.448 1-1 1z\"></path>\n<path d=\"M23 22h-14c-0.552 0-1-0.448-1-1s0.448-1 1-1h14c0.552 0 1 0.448 1 1s-0.448 1-1 1z\"></path>\n<path d=\"M23 18h-14c-0.552 0-1-0.448-1-1s0.448-1 1-1h14c0.552 0 1 0.448 1 1s-0.448 1-1 1z\"></path>\n</symbol>\n</defs>\n</svg>\n<style>/* CSS stylesheet for displaying xarray objects in jupyterlab.\n *\n */\n\n:root {\n  --xr-font-color0: var(--jp-content-font-color0, rgba(0, 0, 0, 1));\n  --xr-font-color2: var(--jp-content-font-color2, rgba(0, 0, 0, 0.54));\n  --xr-font-color3: var(--jp-content-font-color3, rgba(0, 0, 0, 0.38));\n  --xr-border-color: var(--jp-border-color2, #e0e0e0);\n  --xr-disabled-color: var(--jp-layout-color3, #bdbdbd);\n  --xr-background-color: var(--jp-layout-color0, white);\n  --xr-background-color-row-even: var(--jp-layout-color1, white);\n  --xr-background-color-row-odd: var(--jp-layout-color2, #eeeeee);\n}\n\nhtml[theme=dark],\nbody[data-theme=dark],\nbody.vscode-dark {\n  --xr-font-color0: rgba(255, 255, 255, 1);\n  --xr-font-color2: rgba(255, 255, 255, 0.54);\n  --xr-font-color3: rgba(255, 255, 255, 0.38);\n  --xr-border-color: #1F1F1F;\n  --xr-disabled-color: #515151;\n  --xr-background-color: #111111;\n  --xr-background-color-row-even: #111111;\n  --xr-background-color-row-odd: #313131;\n}\n\n.xr-wrap {\n  display: block !important;\n  min-width: 300px;\n  max-width: 700px;\n}\n\n.xr-text-repr-fallback {\n  /* fallback to plain text repr when CSS is not injected (untrusted notebook) */\n  display: none;\n}\n\n.xr-header {\n  padding-top: 6px;\n  padding-bottom: 6px;\n  margin-bottom: 4px;\n  border-bottom: solid 1px var(--xr-border-color);\n}\n\n.xr-header > div,\n.xr-header > ul {\n  display: inline;\n  margin-top: 0;\n  margin-bottom: 0;\n}\n\n.xr-obj-type,\n.xr-array-name {\n  margin-left: 2px;\n  margin-right: 10px;\n}\n\n.xr-obj-type {\n  color: var(--xr-font-color2);\n}\n\n.xr-sections {\n  padding-left: 0 !important;\n  display: grid;\n  grid-template-columns: 150px auto auto 1fr 20px 20px;\n}\n\n.xr-section-item {\n  display: contents;\n}\n\n.xr-section-item input {\n  display: none;\n}\n\n.xr-section-item input + label {\n  color: var(--xr-disabled-color);\n}\n\n.xr-section-item input:enabled + label {\n  cursor: pointer;\n  color: var(--xr-font-color2);\n}\n\n.xr-section-item input:enabled + label:hover {\n  color: var(--xr-font-color0);\n}\n\n.xr-section-summary {\n  grid-column: 1;\n  color: var(--xr-font-color2);\n  font-weight: 500;\n}\n\n.xr-section-summary > span {\n  display: inline-block;\n  padding-left: 0.5em;\n}\n\n.xr-section-summary-in:disabled + label {\n  color: var(--xr-font-color2);\n}\n\n.xr-section-summary-in + label:before {\n  display: inline-block;\n  content: '►';\n  font-size: 11px;\n  width: 15px;\n  text-align: center;\n}\n\n.xr-section-summary-in:disabled + label:before {\n  color: var(--xr-disabled-color);\n}\n\n.xr-section-summary-in:checked + label:before {\n  content: '▼';\n}\n\n.xr-section-summary-in:checked + label > span {\n  display: none;\n}\n\n.xr-section-summary,\n.xr-section-inline-details {\n  padding-top: 4px;\n  padding-bottom: 4px;\n}\n\n.xr-section-inline-details {\n  grid-column: 2 / -1;\n}\n\n.xr-section-details {\n  display: none;\n  grid-column: 1 / -1;\n  margin-bottom: 5px;\n}\n\n.xr-section-summary-in:checked ~ .xr-section-details {\n  display: contents;\n}\n\n.xr-array-wrap {\n  grid-column: 1 / -1;\n  display: grid;\n  grid-template-columns: 20px auto;\n}\n\n.xr-array-wrap > label {\n  grid-column: 1;\n  vertical-align: top;\n}\n\n.xr-preview {\n  color: var(--xr-font-color3);\n}\n\n.xr-array-preview,\n.xr-array-data {\n  padding: 0 5px !important;\n  grid-column: 2;\n}\n\n.xr-array-data,\n.xr-array-in:checked ~ .xr-array-preview {\n  display: none;\n}\n\n.xr-array-in:checked ~ .xr-array-data,\n.xr-array-preview {\n  display: inline-block;\n}\n\n.xr-dim-list {\n  display: inline-block !important;\n  list-style: none;\n  padding: 0 !important;\n  margin: 0;\n}\n\n.xr-dim-list li {\n  display: inline-block;\n  padding: 0;\n  margin: 0;\n}\n\n.xr-dim-list:before {\n  content: '(';\n}\n\n.xr-dim-list:after {\n  content: ')';\n}\n\n.xr-dim-list li:not(:last-child):after {\n  content: ',';\n  padding-right: 5px;\n}\n\n.xr-has-index {\n  font-weight: bold;\n}\n\n.xr-var-list,\n.xr-var-item {\n  display: contents;\n}\n\n.xr-var-item > div,\n.xr-var-item label,\n.xr-var-item > .xr-var-name span {\n  background-color: var(--xr-background-color-row-even);\n  margin-bottom: 0;\n}\n\n.xr-var-item > .xr-var-name:hover span {\n  padding-right: 5px;\n}\n\n.xr-var-list > li:nth-child(odd) > div,\n.xr-var-list > li:nth-child(odd) > label,\n.xr-var-list > li:nth-child(odd) > .xr-var-name span {\n  background-color: var(--xr-background-color-row-odd);\n}\n\n.xr-var-name {\n  grid-column: 1;\n}\n\n.xr-var-dims {\n  grid-column: 2;\n}\n\n.xr-var-dtype {\n  grid-column: 3;\n  text-align: right;\n  color: var(--xr-font-color2);\n}\n\n.xr-var-preview {\n  grid-column: 4;\n}\n\n.xr-index-preview {\n  grid-column: 2 / 5;\n  color: var(--xr-font-color2);\n}\n\n.xr-var-name,\n.xr-var-dims,\n.xr-var-dtype,\n.xr-preview,\n.xr-attrs dt {\n  white-space: nowrap;\n  overflow: hidden;\n  text-overflow: ellipsis;\n  padding-right: 10px;\n}\n\n.xr-var-name:hover,\n.xr-var-dims:hover,\n.xr-var-dtype:hover,\n.xr-attrs dt:hover {\n  overflow: visible;\n  width: auto;\n  z-index: 1;\n}\n\n.xr-var-attrs,\n.xr-var-data,\n.xr-index-data {\n  display: none;\n  background-color: var(--xr-background-color) !important;\n  padding-bottom: 5px !important;\n}\n\n.xr-var-attrs-in:checked ~ .xr-var-attrs,\n.xr-var-data-in:checked ~ .xr-var-data,\n.xr-index-data-in:checked ~ .xr-index-data {\n  display: block;\n}\n\n.xr-var-data > table {\n  float: right;\n}\n\n.xr-var-name span,\n.xr-var-data,\n.xr-index-name div,\n.xr-index-data,\n.xr-attrs {\n  padding-left: 25px !important;\n}\n\n.xr-attrs,\n.xr-var-attrs,\n.xr-var-data,\n.xr-index-data {\n  grid-column: 1 / -1;\n}\n\ndl.xr-attrs {\n  padding: 0;\n  margin: 0;\n  display: grid;\n  grid-template-columns: 125px auto;\n}\n\n.xr-attrs dt,\n.xr-attrs dd {\n  padding: 0;\n  margin: 0;\n  float: left;\n  padding-right: 10px;\n  width: auto;\n}\n\n.xr-attrs dt {\n  font-weight: normal;\n  grid-column: 1;\n}\n\n.xr-attrs dt:hover span {\n  display: inline-block;\n  background: var(--xr-background-color);\n  padding-right: 10px;\n}\n\n.xr-attrs dd {\n  grid-column: 2;\n  white-space: pre-wrap;\n  word-break: break-all;\n}\n\n.xr-icon-database,\n.xr-icon-file-text2,\n.xr-no-icon {\n  display: inline-block;\n  vertical-align: middle;\n  width: 1em;\n  height: 1.5em !important;\n  stroke-width: 0;\n  stroke: currentColor;\n  fill: currentColor;\n}\n</style><pre class='xr-text-repr-fallback'>&lt;TimeSeries (DataArray) (time: 5, component: 1, sample: 1)&gt;\narray([[[ 2.00073295]],\n\n       [[ 1.7023812 ]],\n\n       [[-0.29720943]],\n\n       [[-0.34343923]],\n\n       [[ 0.03902981]]])\nCoordinates:\n  * time       (time) datetime64[ns] 2022-01-01 2022-01-02 ... 2022-01-05\n  * component  (component) object &#x27;random_walk&#x27;\nDimensions without coordinates: sample\nAttributes:\n    static_covariates:  None\n    hierarchy:          None</pre><div class='xr-wrap' style='display:none'><div class='xr-header'><div class='xr-obj-type'>TimeSeries (DataArray)</div><div class='xr-array-name'></div><ul class='xr-dim-list'><li><span class='xr-has-index'>time</span>: 5</li><li><span class='xr-has-index'>component</span>: 1</li><li><span>sample</span>: 1</li></ul></div><ul class='xr-sections'><li class='xr-section-item'><div class='xr-array-wrap'><input id='section-081887ed-78fa-421b-8a90-17e81b6dce39' class='xr-array-in' type='checkbox' checked><label for='section-081887ed-78fa-421b-8a90-17e81b6dce39' title='Show/hide data repr'><svg class='icon xr-icon-database'><use xlink:href='#icon-database'></use></svg></label><div class='xr-array-preview xr-preview'><span>2.001 1.702 -0.2972 -0.3434 0.03903</span></div><div class='xr-array-data'><pre>array([[[ 2.00073295]],\n\n       [[ 1.7023812 ]],\n\n       [[-0.29720943]],\n\n       [[-0.34343923]],\n\n       [[ 0.03902981]]])</pre></div></div></li><li class='xr-section-item'><input id='section-74cc2643-7dc8-47b3-9e06-e83e4857c165' class='xr-section-summary-in' type='checkbox'  checked><label for='section-74cc2643-7dc8-47b3-9e06-e83e4857c165' class='xr-section-summary' >Coordinates: <span>(2)</span></label><div class='xr-section-inline-details'></div><div class='xr-section-details'><ul class='xr-var-list'><li class='xr-var-item'><div class='xr-var-name'><span class='xr-has-index'>time</span></div><div class='xr-var-dims'>(time)</div><div class='xr-var-dtype'>datetime64[ns]</div><div class='xr-var-preview xr-preview'>2022-01-01 ... 2022-01-05</div><input id='attrs-e29c0749-6c97-46b3-b5c2-9652cf4131c6' class='xr-var-attrs-in' type='checkbox' disabled><label for='attrs-e29c0749-6c97-46b3-b5c2-9652cf4131c6' title='Show/Hide attributes'><svg class='icon xr-icon-file-text2'><use xlink:href='#icon-file-text2'></use></svg></label><input id='data-f6dccfcf-a891-4ccd-86a8-659d192c03e5' class='xr-var-data-in' type='checkbox'><label for='data-f6dccfcf-a891-4ccd-86a8-659d192c03e5' title='Show/Hide data repr'><svg class='icon xr-icon-database'><use xlink:href='#icon-database'></use></svg></label><div class='xr-var-attrs'><dl class='xr-attrs'></dl></div><div class='xr-var-data'><pre>array([&#x27;2022-01-01T00:00:00.000000000&#x27;, &#x27;2022-01-02T00:00:00.000000000&#x27;,\n       &#x27;2022-01-03T00:00:00.000000000&#x27;, &#x27;2022-01-04T00:00:00.000000000&#x27;,\n       &#x27;2022-01-05T00:00:00.000000000&#x27;], dtype=&#x27;datetime64[ns]&#x27;)</pre></div></li><li class='xr-var-item'><div class='xr-var-name'><span class='xr-has-index'>component</span></div><div class='xr-var-dims'>(component)</div><div class='xr-var-dtype'>object</div><div class='xr-var-preview xr-preview'>&#x27;random_walk&#x27;</div><input id='attrs-08e5c2e7-63bb-44ac-a585-b404360bea33' class='xr-var-attrs-in' type='checkbox' disabled><label for='attrs-08e5c2e7-63bb-44ac-a585-b404360bea33' title='Show/Hide attributes'><svg class='icon xr-icon-file-text2'><use xlink:href='#icon-file-text2'></use></svg></label><input id='data-1dd7fc10-9446-4716-89be-1dde07ea4735' class='xr-var-data-in' type='checkbox'><label for='data-1dd7fc10-9446-4716-89be-1dde07ea4735' title='Show/Hide data repr'><svg class='icon xr-icon-database'><use xlink:href='#icon-database'></use></svg></label><div class='xr-var-attrs'><dl class='xr-attrs'></dl></div><div class='xr-var-data'><pre>array([&#x27;random_walk&#x27;], dtype=object)</pre></div></li></ul></div></li><li class='xr-section-item'><input id='section-95d50171-9d34-4bf5-9959-a06a70ca50a6' class='xr-section-summary-in' type='checkbox'  ><label for='section-95d50171-9d34-4bf5-9959-a06a70ca50a6' class='xr-section-summary' >Indexes: <span>(2)</span></label><div class='xr-section-inline-details'></div><div class='xr-section-details'><ul class='xr-var-list'><li class='xr-var-item'><div class='xr-index-name'><div>time</div></div><div class='xr-index-preview'>PandasIndex</div><div></div><input id='index-7c798209-d896-4544-b8b6-deca1c6df29a' class='xr-index-data-in' type='checkbox'/><label for='index-7c798209-d896-4544-b8b6-deca1c6df29a' title='Show/Hide index repr'><svg class='icon xr-icon-database'><use xlink:href='#icon-database'></use></svg></label><div class='xr-index-data'><pre>PandasIndex(DatetimeIndex([&#x27;2022-01-01&#x27;, &#x27;2022-01-02&#x27;, &#x27;2022-01-03&#x27;, &#x27;2022-01-04&#x27;,\n               &#x27;2022-01-05&#x27;],\n              dtype=&#x27;datetime64[ns]&#x27;, name=&#x27;time&#x27;, freq=&#x27;D&#x27;))</pre></div></li><li class='xr-var-item'><div class='xr-index-name'><div>component</div></div><div class='xr-index-preview'>PandasIndex</div><div></div><input id='index-d833239a-b3fa-4d9d-bb1a-35e66d7829a9' class='xr-index-data-in' type='checkbox'/><label for='index-d833239a-b3fa-4d9d-bb1a-35e66d7829a9' title='Show/Hide index repr'><svg class='icon xr-icon-database'><use xlink:href='#icon-database'></use></svg></label><div class='xr-index-data'><pre>PandasIndex(Index([&#x27;random_walk&#x27;], dtype=&#x27;object&#x27;, name=&#x27;component&#x27;))</pre></div></li></ul></div></li><li class='xr-section-item'><input id='section-606d0a36-2be6-4e1e-83c2-533570d2e79d' class='xr-section-summary-in' type='checkbox'  checked><label for='section-606d0a36-2be6-4e1e-83c2-533570d2e79d' class='xr-section-summary' >Attributes: <span>(2)</span></label><div class='xr-section-inline-details'></div><div class='xr-section-details'><dl class='xr-attrs'><dt><span>static_covariates :</span></dt><dd>None</dd><dt><span>hierarchy :</span></dt><dd>None</dd></dl></div></li></ul></div></div>"
     },
     "execution_count": 4,
     "metadata": {},
     "output_type": "execute_result"
    }
   ],
   "source": [
    "ts[0:5]"
   ]
  },
  {
   "cell_type": "markdown",
   "id": "0cbd8da5-81fd-4b2d-8b7d-8394ad87348b",
   "metadata": {},
   "source": [
    "---\n",
    "## Use `TimeSeries` object"
   ]
  },
  {
   "cell_type": "code",
   "execution_count": 5,
   "id": "1cbbd4f4-035d-43fa-93a7-6801b944835f",
   "metadata": {
    "ExecuteTime": {
     "end_time": "2023-10-16T08:25:38.882286900Z",
     "start_time": "2023-10-16T08:25:38.303469800Z"
    }
   },
   "outputs": [
    {
     "data": {
      "text/plain": "<Figure size 640x480 with 1 Axes>",
      "image/png": "[encoded data removed]"
     },
     "metadata": {},
     "output_type": "display_data"
    }
   ],
   "source": [
    "ts.plot();"
   ]
  },
  {
   "cell_type": "markdown",
   "id": "06a8a724-7142-4077-b8b6-afafa8950d7b",
   "metadata": {},
   "source": [
    "---\n",
    "## Custom Class Creation"
   ]
  },
  {
   "cell_type": "markdown",
   "id": "91a1218b-8e8f-488e-94e4-875ea28477d8",
   "metadata": {},
   "source": [
    "### Create custom model"
   ]
  },
  {
   "cell_type": "code",
   "execution_count": 6,
   "id": "42e2f870-fd46-4100-9fb0-180a283e3d1e",
   "metadata": {
    "ExecuteTime": {
     "end_time": "2023-10-16T08:25:38.908314600Z",
     "start_time": "2023-10-16T08:25:38.887483200Z"
    }
   },
   "outputs": [],
   "source": [
    "from ontime.abstract import AbstractBaseModel\n",
    "\n",
    "\n",
    "class MyModel(AbstractBaseModel):\n",
    "\n",
    "    def __init__(self):\n",
    "        super().__init__()\n",
    "\n",
    "    def fit(self, series):\n",
    "        super().fit(series)\n",
    "        print('I am fitted')\n",
    "\n",
    "    def predict(self, n):\n",
    "        super().predict(n)\n",
    "        print('I predicted')\n"
   ]
  },
  {
   "cell_type": "markdown",
   "id": "bd48fbd8-f40b-4db8-a1b2-21e2ea3aa2ff",
   "metadata": {},
   "source": [
    "Load custom model in OnTime"
   ]
  },
  {
   "cell_type": "code",
   "execution_count": 7,
   "id": "372be43f-b104-4dfd-a26f-0e70c23f0f2d",
   "metadata": {
    "ExecuteTime": {
     "end_time": "2023-10-16T08:25:39.127455800Z",
     "start_time": "2023-10-16T08:25:38.888793700Z"
    }
   },
   "outputs": [
    {
     "data": {
      "text/plain": "['arima', 'catboost', 'TCN']"
     },
     "execution_count": 7,
     "metadata": {},
     "output_type": "execute_result"
    }
   ],
   "source": [
    "on.models.get_all()"
   ]
  },
  {
   "cell_type": "code",
   "execution_count": 8,
   "id": "2b8c0f2b-31b6-481c-8e58-d087eb3d1e30",
   "metadata": {
    "ExecuteTime": {
     "end_time": "2023-10-16T08:25:39.127455800Z",
     "start_time": "2023-10-16T08:25:38.908314600Z"
    }
   },
   "outputs": [
    {
     "data": {
      "text/plain": "['arima', 'catboost', 'TCN', 'my_model']"
     },
     "execution_count": 8,
     "metadata": {},
     "output_type": "execute_result"
    }
   ],
   "source": [
    "on.models.load('my_model', MyModel)\n",
    "on.models.get_all()"
   ]
  },
  {
   "cell_type": "code",
   "execution_count": 9,
   "id": "cce99e86-5cce-4d2e-811a-4938fa637b83",
   "metadata": {
    "ExecuteTime": {
     "end_time": "2023-10-16T08:25:39.127455800Z",
     "start_time": "2023-10-16T08:25:38.938768600Z"
    }
   },
   "outputs": [],
   "source": [
    "m = on.models.my_model()"
   ]
  },
  {
   "cell_type": "code",
   "execution_count": 10,
   "id": "aa9eb39f-f636-4bfa-a783-787096d52f3e",
   "metadata": {
    "ExecuteTime": {
     "end_time": "2023-10-16T08:25:39.127455800Z",
     "start_time": "2023-10-16T08:25:38.952283800Z"
    }
   },
   "outputs": [
    {
     "name": "stdout",
     "output_type": "stream",
     "text": [
      "I am fitted\n"
     ]
    }
   ],
   "source": [
    "m.fit(ts)"
   ]
  },
  {
   "cell_type": "code",
   "execution_count": 11,
   "id": "47ef7030-f5cd-4d50-a74f-0a204eb47686",
   "metadata": {
    "ExecuteTime": {
     "end_time": "2023-10-16T08:25:39.127455800Z",
     "start_time": "2023-10-16T08:25:38.953648Z"
    }
   },
   "outputs": [
    {
     "name": "stdout",
     "output_type": "stream",
     "text": [
      "I predicted\n"
     ]
    }
   ],
   "source": [
    "m.predict(5)"
   ]
  },
  {
   "cell_type": "markdown",
   "id": "cd126529-3b5e-4a22-a871-60d221b6df6d",
   "metadata": {},
   "source": [
    "### Create custom detector"
   ]
  },
  {
   "cell_type": "code",
   "execution_count": 12,
   "id": "40a0dd53-0fe9-40a7-86d9-ee551e4c5e6e",
   "metadata": {
    "ExecuteTime": {
     "end_time": "2023-10-16T08:25:39.127455800Z",
     "start_time": "2023-10-16T08:25:38.980769600Z"
    }
   },
   "outputs": [],
   "source": [
    "from ontime.abstract import AbstractBaseDetector\n",
    "\n",
    "\n",
    "class MyDetector(AbstractBaseDetector):\n",
    "\n",
    "    def __init__(self):\n",
    "        super().__init__()\n",
    "\n",
    "    def detect(self, ts):\n",
    "        print('I detected')\n"
   ]
  },
  {
   "cell_type": "markdown",
   "id": "55bc256f-0ca3-4087-b7a9-bf563f26ffe7",
   "metadata": {},
   "source": [
    "Load custom detector in OnTime"
   ]
  },
  {
   "cell_type": "code",
   "execution_count": 13,
   "id": "6a8dd074-6350-4c3a-a8a7-7d901b790f95",
   "metadata": {
    "ExecuteTime": {
     "end_time": "2023-10-16T08:25:39.140972300Z",
     "start_time": "2023-10-16T08:25:38.983298400Z"
    }
   },
   "outputs": [
    {
     "data": {
      "text/plain": "['threshold', 'quantile']"
     },
     "execution_count": 13,
     "metadata": {},
     "output_type": "execute_result"
    }
   ],
   "source": [
    "on.detectors.get_all()"
   ]
  },
  {
   "cell_type": "code",
   "execution_count": 14,
   "id": "91bdf719-f451-4d07-aaed-c2f5f7b4fa1b",
   "metadata": {
    "ExecuteTime": {
     "end_time": "2023-10-16T08:25:39.140972300Z",
     "start_time": "2023-10-16T08:25:39.012941700Z"
    }
   },
   "outputs": [],
   "source": [
    "on.detectors.load('my_detector', MyDetector)"
   ]
  },
  {
   "cell_type": "code",
   "execution_count": 15,
   "id": "bb636aa5-f155-46e4-8038-027d5f5db78a",
   "metadata": {
    "ExecuteTime": {
     "end_time": "2023-10-16T08:25:39.140972300Z",
     "start_time": "2023-10-16T08:25:39.014985900Z"
    }
   },
   "outputs": [
    {
     "data": {
      "text/plain": "['threshold', 'quantile', 'my_detector']"
     },
     "execution_count": 15,
     "metadata": {},
     "output_type": "execute_result"
    }
   ],
   "source": [
    "on.detectors.get_all()"
   ]
  },
  {
   "cell_type": "code",
   "execution_count": 16,
   "id": "f16ac090-142d-4d1b-8351-40b443275c72",
   "metadata": {
    "ExecuteTime": {
     "end_time": "2023-10-16T08:25:39.140972300Z",
     "start_time": "2023-10-16T08:25:39.043277200Z"
    }
   },
   "outputs": [
    {
     "name": "stdout",
     "output_type": "stream",
     "text": [
      "I detected\n"
     ]
    }
   ],
   "source": [
    "on.detectors.my_detector().detect(ts)"
   ]
  },
  {
   "cell_type": "markdown",
   "source": [
    "# GenericDetector"
   ],
   "metadata": {
    "collapsed": false
   },
   "id": "4a1fa7f746433291"
  },
  {
   "cell_type": "code",
   "execution_count": 17,
   "outputs": [
    {
     "data": {
      "text/plain": "<Figure size 640x480 with 1 Axes>",
      "image/png": "[encoded data removed]"
     },
     "metadata": {},
     "output_type": "display_data"
    }
   ],
   "source": [
    "linear_ts = on.generators.linear().generate(start=pd.Timestamp('2022-01-01'),\n",
    "                                            end=pd.Timestamp('2022-12-31'))\n",
    "linear_ts.plot();"
   ],
   "metadata": {
    "collapsed": false,
    "ExecuteTime": {
     "end_time": "2023-10-16T08:25:39.420409200Z",
     "start_time": "2023-10-16T08:25:39.046788100Z"
    }
   },
   "id": "12389d334f9c1415"
  },
  {
   "cell_type": "code",
   "execution_count": 18,
   "outputs": [
    {
     "data": {
      "text/plain": "<TimeSeries (DataArray) (time: 365, component: 1, sample: 1)>\narray([[[0.        ]],\n\n       [[0.00274725]],\n\n       [[0.00549451]],\n\n       [[0.00824176]],\n\n       [[0.01098901]],\n\n       [[0.01373626]],\n\n       [[0.01648352]],\n\n       [[0.01923077]],\n\n       [[0.02197802]],\n\n       [[0.02472527]],\n\n...\n\n       [[0.97527473]],\n\n       [[0.97802198]],\n\n       [[0.98076923]],\n\n       [[0.98351648]],\n\n       [[0.98626374]],\n\n       [[0.98901099]],\n\n       [[0.99175824]],\n\n       [[0.99450549]],\n\n       [[0.99725275]],\n\n       [[1.        ]]])\nCoordinates:\n  * time       (time) datetime64[ns] 2022-01-01 2022-01-02 ... 2022-12-31\n  * component  (component) object 'linear'\nDimensions without coordinates: sample\nAttributes:\n    static_covariates:  None\n    hierarchy:          None",
      "text/html": "<div><svg style=\"position: absolute; width: 0; height: 0; overflow: hidden\">\n<defs>\n<symbol id=\"icon-database\" viewBox=\"0 0 32 32\">\n<path d=\"M16 0c-8.837 0-16 2.239-16 5v4c0 2.761 7.163 5 16 5s16-2.239 16-5v-4c0-2.761-7.163-5-16-5z\"></path>\n<path d=\"M16 17c-8.837 0-16-2.239-16-5v6c0 2.761 7.163 5 16 5s16-2.239 16-5v-6c0 2.761-7.163 5-16 5z\"></path>\n<path d=\"M16 26c-8.837 0-16-2.239-16-5v6c0 2.761 7.163 5 16 5s16-2.239 16-5v-6c0 2.761-7.163 5-16 5z\"></path>\n</symbol>\n<symbol id=\"icon-file-text2\" viewBox=\"0 0 32 32\">\n<path d=\"M28.681 7.159c-0.694-0.947-1.662-2.053-2.724-3.116s-2.169-2.030-3.116-2.724c-1.612-1.182-2.393-1.319-2.841-1.319h-15.5c-1.378 0-2.5 1.121-2.5 2.5v27c0 1.378 1.122 2.5 2.5 2.5h23c1.378 0 2.5-1.122 2.5-2.5v-19.5c0-0.448-0.137-1.23-1.319-2.841zM24.543 5.457c0.959 0.959 1.712 1.825 2.268 2.543h-4.811v-4.811c0.718 0.556 1.584 1.309 2.543 2.268zM28 29.5c0 0.271-0.229 0.5-0.5 0.5h-23c-0.271 0-0.5-0.229-0.5-0.5v-27c0-0.271 0.229-0.5 0.5-0.5 0 0 15.499-0 15.5 0v7c0 0.552 0.448 1 1 1h7v19.5z\"></path>\n<path d=\"M23 26h-14c-0.552 0-1-0.448-1-1s0.448-1 1-1h14c0.552 0 1 0.448 1 1s-0.448 1-1 1z\"></path>\n<path d=\"M23 22h-14c-0.552 0-1-0.448-1-1s0.448-1 1-1h14c0.552 0 1 0.448 1 1s-0.448 1-1 1z\"></path>\n<path d=\"M23 18h-14c-0.552 0-1-0.448-1-1s0.448-1 1-1h14c0.552 0 1 0.448 1 1s-0.448 1-1 1z\"></path>\n</symbol>\n</defs>\n</svg>\n<style>/* CSS stylesheet for displaying xarray objects in jupyterlab.\n *\n */\n\n:root {\n  --xr-font-color0: var(--jp-content-font-color0, rgba(0, 0, 0, 1));\n  --xr-font-color2: var(--jp-content-font-color2, rgba(0, 0, 0, 0.54));\n  --xr-font-color3: var(--jp-content-font-color3, rgba(0, 0, 0, 0.38));\n  --xr-border-color: var(--jp-border-color2, #e0e0e0);\n  --xr-disabled-color: var(--jp-layout-color3, #bdbdbd);\n  --xr-background-color: var(--jp-layout-color0, white);\n  --xr-background-color-row-even: var(--jp-layout-color1, white);\n  --xr-background-color-row-odd: var(--jp-layout-color2, #eeeeee);\n}\n\nhtml[theme=dark],\nbody[data-theme=dark],\nbody.vscode-dark {\n  --xr-font-color0: rgba(255, 255, 255, 1);\n  --xr-font-color2: rgba(255, 255, 255, 0.54);\n  --xr-font-color3: rgba(255, 255, 255, 0.38);\n  --xr-border-color: #1F1F1F;\n  --xr-disabled-color: #515151;\n  --xr-background-color: #111111;\n  --xr-background-color-row-even: #111111;\n  --xr-background-color-row-odd: #313131;\n}\n\n.xr-wrap {\n  display: block !important;\n  min-width: 300px;\n  max-width: 700px;\n}\n\n.xr-text-repr-fallback {\n  /* fallback to plain text repr when CSS is not injected (untrusted notebook) */\n  display: none;\n}\n\n.xr-header {\n  padding-top: 6px;\n  padding-bottom: 6px;\n  margin-bottom: 4px;\n  border-bottom: solid 1px var(--xr-border-color);\n}\n\n.xr-header > div,\n.xr-header > ul {\n  display: inline;\n  margin-top: 0;\n  margin-bottom: 0;\n}\n\n.xr-obj-type,\n.xr-array-name {\n  margin-left: 2px;\n  margin-right: 10px;\n}\n\n.xr-obj-type {\n  color: var(--xr-font-color2);\n}\n\n.xr-sections {\n  padding-left: 0 !important;\n  display: grid;\n  grid-template-columns: 150px auto auto 1fr 20px 20px;\n}\n\n.xr-section-item {\n  display: contents;\n}\n\n.xr-section-item input {\n  display: none;\n}\n\n.xr-section-item input + label {\n  color: var(--xr-disabled-color);\n}\n\n.xr-section-item input:enabled + label {\n  cursor: pointer;\n  color: var(--xr-font-color2);\n}\n\n.xr-section-item input:enabled + label:hover {\n  color: var(--xr-font-color0);\n}\n\n.xr-section-summary {\n  grid-column: 1;\n  color: var(--xr-font-color2);\n  font-weight: 500;\n}\n\n.xr-section-summary > span {\n  display: inline-block;\n  padding-left: 0.5em;\n}\n\n.xr-section-summary-in:disabled + label {\n  color: var(--xr-font-color2);\n}\n\n.xr-section-summary-in + label:before {\n  display: inline-block;\n  content: '►';\n  font-size: 11px;\n  width: 15px;\n  text-align: center;\n}\n\n.xr-section-summary-in:disabled + label:before {\n  color: var(--xr-disabled-color);\n}\n\n.xr-section-summary-in:checked + label:before {\n  content: '▼';\n}\n\n.xr-section-summary-in:checked + label > span {\n  display: none;\n}\n\n.xr-section-summary,\n.xr-section-inline-details {\n  padding-top: 4px;\n  padding-bottom: 4px;\n}\n\n.xr-section-inline-details {\n  grid-column: 2 / -1;\n}\n\n.xr-section-details {\n  display: none;\n  grid-column: 1 / -1;\n  margin-bottom: 5px;\n}\n\n.xr-section-summary-in:checked ~ .xr-section-details {\n  display: contents;\n}\n\n.xr-array-wrap {\n  grid-column: 1 / -1;\n  display: grid;\n  grid-template-columns: 20px auto;\n}\n\n.xr-array-wrap > label {\n  grid-column: 1;\n  vertical-align: top;\n}\n\n.xr-preview {\n  color: var(--xr-font-color3);\n}\n\n.xr-array-preview,\n.xr-array-data {\n  padding: 0 5px !important;\n  grid-column: 2;\n}\n\n.xr-array-data,\n.xr-array-in:checked ~ .xr-array-preview {\n  display: none;\n}\n\n.xr-array-in:checked ~ .xr-array-data,\n.xr-array-preview {\n  display: inline-block;\n}\n\n.xr-dim-list {\n  display: inline-block !important;\n  list-style: none;\n  padding: 0 !important;\n  margin: 0;\n}\n\n.xr-dim-list li {\n  display: inline-block;\n  padding: 0;\n  margin: 0;\n}\n\n.xr-dim-list:before {\n  content: '(';\n}\n\n.xr-dim-list:after {\n  content: ')';\n}\n\n.xr-dim-list li:not(:last-child):after {\n  content: ',';\n  padding-right: 5px;\n}\n\n.xr-has-index {\n  font-weight: bold;\n}\n\n.xr-var-list,\n.xr-var-item {\n  display: contents;\n}\n\n.xr-var-item > div,\n.xr-var-item label,\n.xr-var-item > .xr-var-name span {\n  background-color: var(--xr-background-color-row-even);\n  margin-bottom: 0;\n}\n\n.xr-var-item > .xr-var-name:hover span {\n  padding-right: 5px;\n}\n\n.xr-var-list > li:nth-child(odd) > div,\n.xr-var-list > li:nth-child(odd) > label,\n.xr-var-list > li:nth-child(odd) > .xr-var-name span {\n  background-color: var(--xr-background-color-row-odd);\n}\n\n.xr-var-name {\n  grid-column: 1;\n}\n\n.xr-var-dims {\n  grid-column: 2;\n}\n\n.xr-var-dtype {\n  grid-column: 3;\n  text-align: right;\n  color: var(--xr-font-color2);\n}\n\n.xr-var-preview {\n  grid-column: 4;\n}\n\n.xr-index-preview {\n  grid-column: 2 / 5;\n  color: var(--xr-font-color2);\n}\n\n.xr-var-name,\n.xr-var-dims,\n.xr-var-dtype,\n.xr-preview,\n.xr-attrs dt {\n  white-space: nowrap;\n  overflow: hidden;\n  text-overflow: ellipsis;\n  padding-right: 10px;\n}\n\n.xr-var-name:hover,\n.xr-var-dims:hover,\n.xr-var-dtype:hover,\n.xr-attrs dt:hover {\n  overflow: visible;\n  width: auto;\n  z-index: 1;\n}\n\n.xr-var-attrs,\n.xr-var-data,\n.xr-index-data {\n  display: none;\n  background-color: var(--xr-background-color) !important;\n  padding-bottom: 5px !important;\n}\n\n.xr-var-attrs-in:checked ~ .xr-var-attrs,\n.xr-var-data-in:checked ~ .xr-var-data,\n.xr-index-data-in:checked ~ .xr-index-data {\n  display: block;\n}\n\n.xr-var-data > table {\n  float: right;\n}\n\n.xr-var-name span,\n.xr-var-data,\n.xr-index-name div,\n.xr-index-data,\n.xr-attrs {\n  padding-left: 25px !important;\n}\n\n.xr-attrs,\n.xr-var-attrs,\n.xr-var-data,\n.xr-index-data {\n  grid-column: 1 / -1;\n}\n\ndl.xr-attrs {\n  padding: 0;\n  margin: 0;\n  display: grid;\n  grid-template-columns: 125px auto;\n}\n\n.xr-attrs dt,\n.xr-attrs dd {\n  padding: 0;\n  margin: 0;\n  float: left;\n  padding-right: 10px;\n  width: auto;\n}\n\n.xr-attrs dt {\n  font-weight: normal;\n  grid-column: 1;\n}\n\n.xr-attrs dt:hover span {\n  display: inline-block;\n  background: var(--xr-background-color);\n  padding-right: 10px;\n}\n\n.xr-attrs dd {\n  grid-column: 2;\n  white-space: pre-wrap;\n  word-break: break-all;\n}\n\n.xr-icon-database,\n.xr-icon-file-text2,\n.xr-no-icon {\n  display: inline-block;\n  vertical-align: middle;\n  width: 1em;\n  height: 1.5em !important;\n  stroke-width: 0;\n  stroke: currentColor;\n  fill: currentColor;\n}\n</style><pre class='xr-text-repr-fallback'>&lt;TimeSeries (DataArray) (time: 365, component: 1, sample: 1)&gt;\narray([[[0.        ]],\n\n       [[0.00274725]],\n\n       [[0.00549451]],\n\n       [[0.00824176]],\n\n       [[0.01098901]],\n\n       [[0.01373626]],\n\n       [[0.01648352]],\n\n       [[0.01923077]],\n\n       [[0.02197802]],\n\n       [[0.02472527]],\n\n...\n\n       [[0.97527473]],\n\n       [[0.97802198]],\n\n       [[0.98076923]],\n\n       [[0.98351648]],\n\n       [[0.98626374]],\n\n       [[0.98901099]],\n\n       [[0.99175824]],\n\n       [[0.99450549]],\n\n       [[0.99725275]],\n\n       [[1.        ]]])\nCoordinates:\n  * time       (time) datetime64[ns] 2022-01-01 2022-01-02 ... 2022-12-31\n  * component  (component) object &#x27;linear&#x27;\nDimensions without coordinates: sample\nAttributes:\n    static_covariates:  None\n    hierarchy:          None</pre><div class='xr-wrap' style='display:none'><div class='xr-header'><div class='xr-obj-type'>TimeSeries (DataArray)</div><div class='xr-array-name'></div><ul class='xr-dim-list'><li><span class='xr-has-index'>time</span>: 365</li><li><span class='xr-has-index'>component</span>: 1</li><li><span>sample</span>: 1</li></ul></div><ul class='xr-sections'><li class='xr-section-item'><div class='xr-array-wrap'><input id='section-0f25e44f-7f8a-4337-aafa-3c01bfd87502' class='xr-array-in' type='checkbox' checked><label for='section-0f25e44f-7f8a-4337-aafa-3c01bfd87502' title='Show/hide data repr'><svg class='icon xr-icon-database'><use xlink:href='#icon-database'></use></svg></label><div class='xr-array-preview xr-preview'><span>0.0 0.002747 0.005495 0.008242 0.01099 ... 0.9918 0.9945 0.9973 1.0</span></div><div class='xr-array-data'><pre>array([[[0.        ]],\n\n       [[0.00274725]],\n\n       [[0.00549451]],\n\n       [[0.00824176]],\n\n       [[0.01098901]],\n\n       [[0.01373626]],\n\n       [[0.01648352]],\n\n       [[0.01923077]],\n\n       [[0.02197802]],\n\n       [[0.02472527]],\n\n...\n\n       [[0.97527473]],\n\n       [[0.97802198]],\n\n       [[0.98076923]],\n\n       [[0.98351648]],\n\n       [[0.98626374]],\n\n       [[0.98901099]],\n\n       [[0.99175824]],\n\n       [[0.99450549]],\n\n       [[0.99725275]],\n\n       [[1.        ]]])</pre></div></div></li><li class='xr-section-item'><input id='section-fc00b0fb-4cfc-47c3-9564-b95ec767f620' class='xr-section-summary-in' type='checkbox'  checked><label for='section-fc00b0fb-4cfc-47c3-9564-b95ec767f620' class='xr-section-summary' >Coordinates: <span>(2)</span></label><div class='xr-section-inline-details'></div><div class='xr-section-details'><ul class='xr-var-list'><li class='xr-var-item'><div class='xr-var-name'><span class='xr-has-index'>time</span></div><div class='xr-var-dims'>(time)</div><div class='xr-var-dtype'>datetime64[ns]</div><div class='xr-var-preview xr-preview'>2022-01-01 ... 2022-12-31</div><input id='attrs-1d7db5cf-04b4-4d62-81b4-47a7c552c487' class='xr-var-attrs-in' type='checkbox' disabled><label for='attrs-1d7db5cf-04b4-4d62-81b4-47a7c552c487' title='Show/Hide attributes'><svg class='icon xr-icon-file-text2'><use xlink:href='#icon-file-text2'></use></svg></label><input id='data-41cde994-53b4-41ab-b8d1-1a047c6c56b1' class='xr-var-data-in' type='checkbox'><label for='data-41cde994-53b4-41ab-b8d1-1a047c6c56b1' title='Show/Hide data repr'><svg class='icon xr-icon-database'><use xlink:href='#icon-database'></use></svg></label><div class='xr-var-attrs'><dl class='xr-attrs'></dl></div><div class='xr-var-data'><pre>array([&#x27;2022-01-01T00:00:00.000000000&#x27;, &#x27;2022-01-02T00:00:00.000000000&#x27;,\n       &#x27;2022-01-03T00:00:00.000000000&#x27;, ..., &#x27;2022-12-29T00:00:00.000000000&#x27;,\n       &#x27;2022-12-30T00:00:00.000000000&#x27;, &#x27;2022-12-31T00:00:00.000000000&#x27;],\n      dtype=&#x27;datetime64[ns]&#x27;)</pre></div></li><li class='xr-var-item'><div class='xr-var-name'><span class='xr-has-index'>component</span></div><div class='xr-var-dims'>(component)</div><div class='xr-var-dtype'>object</div><div class='xr-var-preview xr-preview'>&#x27;linear&#x27;</div><input id='attrs-c64ad35e-1f7f-47bb-b43a-19186fe3c379' class='xr-var-attrs-in' type='checkbox' disabled><label for='attrs-c64ad35e-1f7f-47bb-b43a-19186fe3c379' title='Show/Hide attributes'><svg class='icon xr-icon-file-text2'><use xlink:href='#icon-file-text2'></use></svg></label><input id='data-759f8f8a-2983-4552-9322-9757f73ba4c0' class='xr-var-data-in' type='checkbox'><label for='data-759f8f8a-2983-4552-9322-9757f73ba4c0' title='Show/Hide data repr'><svg class='icon xr-icon-database'><use xlink:href='#icon-database'></use></svg></label><div class='xr-var-attrs'><dl class='xr-attrs'></dl></div><div class='xr-var-data'><pre>array([&#x27;linear&#x27;], dtype=object)</pre></div></li></ul></div></li><li class='xr-section-item'><input id='section-e0be19a1-ecf4-454b-a98c-c73d7e3de122' class='xr-section-summary-in' type='checkbox'  ><label for='section-e0be19a1-ecf4-454b-a98c-c73d7e3de122' class='xr-section-summary' >Indexes: <span>(2)</span></label><div class='xr-section-inline-details'></div><div class='xr-section-details'><ul class='xr-var-list'><li class='xr-var-item'><div class='xr-index-name'><div>time</div></div><div class='xr-index-preview'>PandasIndex</div><div></div><input id='index-1b6b2cbc-c311-4348-9bdd-f47afb9a3f8a' class='xr-index-data-in' type='checkbox'/><label for='index-1b6b2cbc-c311-4348-9bdd-f47afb9a3f8a' title='Show/Hide index repr'><svg class='icon xr-icon-database'><use xlink:href='#icon-database'></use></svg></label><div class='xr-index-data'><pre>PandasIndex(DatetimeIndex([&#x27;2022-01-01&#x27;, &#x27;2022-01-02&#x27;, &#x27;2022-01-03&#x27;, &#x27;2022-01-04&#x27;,\n               &#x27;2022-01-05&#x27;, &#x27;2022-01-06&#x27;, &#x27;2022-01-07&#x27;, &#x27;2022-01-08&#x27;,\n               &#x27;2022-01-09&#x27;, &#x27;2022-01-10&#x27;,\n               ...\n               &#x27;2022-12-22&#x27;, &#x27;2022-12-23&#x27;, &#x27;2022-12-24&#x27;, &#x27;2022-12-25&#x27;,\n               &#x27;2022-12-26&#x27;, &#x27;2022-12-27&#x27;, &#x27;2022-12-28&#x27;, &#x27;2022-12-29&#x27;,\n               &#x27;2022-12-30&#x27;, &#x27;2022-12-31&#x27;],\n              dtype=&#x27;datetime64[ns]&#x27;, name=&#x27;time&#x27;, length=365, freq=&#x27;D&#x27;))</pre></div></li><li class='xr-var-item'><div class='xr-index-name'><div>component</div></div><div class='xr-index-preview'>PandasIndex</div><div></div><input id='index-6fb566c9-2f2b-4cff-8498-a4f48cabd58a' class='xr-index-data-in' type='checkbox'/><label for='index-6fb566c9-2f2b-4cff-8498-a4f48cabd58a' title='Show/Hide index repr'><svg class='icon xr-icon-database'><use xlink:href='#icon-database'></use></svg></label><div class='xr-index-data'><pre>PandasIndex(Index([&#x27;linear&#x27;], dtype=&#x27;object&#x27;, name=&#x27;component&#x27;))</pre></div></li></ul></div></li><li class='xr-section-item'><input id='section-90e7905d-31cc-44e0-aac8-2662ed65aab2' class='xr-section-summary-in' type='checkbox'  checked><label for='section-90e7905d-31cc-44e0-aac8-2662ed65aab2' class='xr-section-summary' >Attributes: <span>(2)</span></label><div class='xr-section-inline-details'></div><div class='xr-section-details'><dl class='xr-attrs'><dt><span>static_covariates :</span></dt><dd>None</dd><dt><span>hierarchy :</span></dt><dd>None</dd></dl></div></li></ul></div></div>"
     },
     "execution_count": 18,
     "metadata": {},
     "output_type": "execute_result"
    }
   ],
   "source": [
    "probabilistic_ts = on.time_series.ProbabilisticTimeSeries.from_darts(linear_ts)\n",
    "probabilistic_ts"
   ],
   "metadata": {
    "collapsed": false,
    "ExecuteTime": {
     "end_time": "2023-10-16T08:25:39.672248300Z",
     "start_time": "2023-10-16T08:25:39.414856500Z"
    }
   },
   "id": "16abfbad578477f7"
  },
  {
   "cell_type": "code",
   "execution_count": 20,
   "outputs": [
    {
     "name": "stdout",
     "output_type": "stream",
     "text": [
      "Input DataArray contains values outside of {0; 1}\n"
     ]
    }
   ],
   "source": [
    "# see error : \n",
    "try :\n",
    "    binary_ts = on.time_series.BinaryTimeSeries.from_darts(linear_ts)\n",
    "except Exception as e:\n",
    "    print(e)"
   ],
   "metadata": {
    "collapsed": false,
    "ExecuteTime": {
     "end_time": "2023-10-16T08:26:01.516941800Z",
     "start_time": "2023-10-16T08:26:01.510928300Z"
    }
   },
   "id": "86d922a883ef1908"
  },
  {
   "cell_type": "code",
   "execution_count": null,
   "outputs": [],
   "source": [
    "# try append\n"
   ],
   "metadata": {
    "collapsed": false,
    "ExecuteTime": {
     "end_time": "2023-10-16T08:25:40.790646700Z",
     "start_time": "2023-10-16T08:25:40.790646700Z"
    }
   },
   "id": "8a659b3573afebcb"
  }
 ],
 "metadata": {
  "kernelspec": {
   "display_name": "Python 3 (ipykernel)",
   "language": "python",
   "name": "python3"
  },
  "language_info": {
   "codemirror_mode": {
    "name": "ipython",
    "version": 3
   },
   "file_extension": ".py",
   "mimetype": "text/x-python",
   "name": "python",
   "nbconvert_exporter": "python",
   "pygments_lexer": "ipython3",
   "version": "3.10.10"
  }
 },
 "nbformat": 4,
 "nbformat_minor": 5
}
