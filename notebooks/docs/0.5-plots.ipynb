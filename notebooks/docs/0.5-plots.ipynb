{
 "cells": [
  {
   "cell_type": "markdown",
   "id": "41296cc6-9d84-47c5-8a92-2d292f6f3c4a",
   "metadata": {},
   "source": [
    "# Plotting"
   ]
  },
  {
   "cell_type": "code",
   "execution_count": 1,
   "id": "9286e0b8-3c78-4b0f-943c-d219e9840dfe",
   "metadata": {},
   "outputs": [],
   "source": [
    "# Import to be able to import python package from src\n",
    "import sys\n",
    "sys.path.insert(0, '../src')"
   ]
  },
  {
   "cell_type": "code",
   "execution_count": 2,
   "id": "2028eed7-b1c3-4c9e-b6a0-00433caa7d0f",
   "metadata": {},
   "outputs": [
    {
     "name": "stderr",
     "output_type": "stream",
     "text": [
      "The `LightGBM` module could not be imported. To enable LightGBM support in Darts, follow the detailed instructions in the installation guide: https://github.com/unit8co/darts/blob/master/INSTALL.md\n",
      "The `Prophet` module could not be imported. To enable Prophet support in Darts, follow the detailed instructions in the installation guide: https://github.com/unit8co/darts/blob/master/INSTALL.md\n",
      "/Users/fred.montet/Library/Caches/pypoetry/virtualenvs/ontime-FpQu8-YN-py3.10/lib/python3.10/site-packages/statsforecast/core.py:21: TqdmWarning: IProgress not found. Please update jupyter and ipywidgets. See https://ipywidgets.readthedocs.io/en/stable/user_install.html\n",
      "  from tqdm.autonotebook import tqdm\n"
     ]
    }
   ],
   "source": [
    "import pandas as pd\n",
    "import numpy as np\n",
    "import ontime as on"
   ]
  },
  {
   "cell_type": "markdown",
   "id": "e24da8ab-6a83-4c2f-9ff0-c633d4693a91",
   "metadata": {},
   "source": [
    "---\n",
    "## Generation of random time series"
   ]
  },
  {
   "cell_type": "code",
   "execution_count": 3,
   "id": "e9a96d79-0423-4d79-b01d-726193216238",
   "metadata": {},
   "outputs": [],
   "source": [
    "ts = on.generators.random_walk().generate(start=pd.Timestamp('2022-01-01'), end=pd.Timestamp('2022-12-31'))"
   ]
  },
  {
   "cell_type": "markdown",
   "id": "6bb9090a-bc1c-4a06-9b6d-ddee9ac64a9a",
   "metadata": {},
   "source": [
    "---\n",
    "## Plots"
   ]
  },
  {
   "cell_type": "markdown",
   "id": "d08650b5-e73b-45dd-a56b-9d50ff06c737",
   "metadata": {},
   "source": [
    "https://medium.com/nightingale/style-guidelines-92ebe166addc"
   ]
  },
  {
   "cell_type": "code",
   "execution_count": 5,
   "id": "93be4c86-a28f-4af1-8fef-a45467195737",
   "metadata": {},
   "outputs": [],
   "source": [
    "import altair as alt"
   ]
  },
  {
   "cell_type": "markdown",
   "id": "ffd17133-d9b5-41b8-b15e-3c8593d2ada6",
   "metadata": {},
   "source": [
    "### Define theme"
   ]
  },
  {
   "cell_type": "code",
   "execution_count": 68,
   "id": "b59bccc6-996a-4200-b697-01582aa47b0a",
   "metadata": {},
   "outputs": [
    {
     "data": {
      "text/plain": [
       "<bound method PluginRegistry.names of ThemeRegistry(active='vox', registered=['dark', 'default', 'excel', 'fivethirtyeight', 'ggplot2', 'googlecharts', 'latimes', 'none', 'opaque', 'powerbi', 'quartz', 'urbaninstitute', 'vox'])>"
      ]
     },
     "execution_count": 68,
     "metadata": {},
     "output_type": "execute_result"
    }
   ],
   "source": [
    "alt.themes.names"
   ]
  },
  {
   "cell_type": "code",
   "execution_count": 72,
   "id": "100a36d6-eca8-440f-a02d-c5e81d65aa9e",
   "metadata": {},
   "outputs": [
    {
     "data": {
      "text/plain": [
       "ThemeRegistry.enable('default')"
      ]
     },
     "execution_count": 72,
     "metadata": {},
     "output_type": "execute_result"
    }
   ],
   "source": [
    "alt.themes.enable('default')"
   ]
  },
  {
   "cell_type": "markdown",
   "id": "2fe22a70-0835-4912-9644-e51527f4bdda",
   "metadata": {},
   "source": [
    "### Plot"
   ]
  },
  {
   "cell_type": "code",
   "execution_count": 83,
   "id": "5b4ce975-b77f-4470-8bb6-5cc50c8726cf",
   "metadata": {},
   "outputs": [],
   "source": [
    "def plot(ts):\n",
    "    # Get series name\n",
    "    name = ts.components[0]\n",
    "    \n",
    "    # Transform data\n",
    "    df = ts.pd_dataframe()\n",
    "    df = df.reset_index()\n",
    "\n",
    "    # Plot\n",
    "    chart = alt.Chart(df).mark_line().encode(\n",
    "        x='time:T',\n",
    "        y=f'{name}:Q'\n",
    "    ).properties(\n",
    "        width=500,\n",
    "        height=300\n",
    "    )\n",
    "\n",
    "    return chart"
   ]
  },
  {
   "cell_type": "code",
   "execution_count": 84,
   "id": "28404ff6-a4bb-47ef-9e80-4531fa163da6",
   "metadata": {},
   "outputs": [
    {
     "data": {
      "text/html": [
       "\n",
       "<style>\n",
       "  #altair-viz-a2955c0de5414b63a4a801468592084d.vega-embed {\n",
       "    width: 100%;\n",
       "    display: flex;\n",
       "  }\n",
       "\n",
       "  #altair-viz-a2955c0de5414b63a4a801468592084d.vega-embed details,\n",
       "  #altair-viz-a2955c0de5414b63a4a801468592084d.vega-embed details summary {\n",
       "    position: relative;\n",
       "  }\n",
       "</style>\n",
       "<div id=\"altair-viz-a2955c0de5414b63a4a801468592084d\"></div>\n",
       "<script type=\"text/javascript\">\n",
       "  var VEGA_DEBUG = (typeof VEGA_DEBUG == \"undefined\") ? {} : VEGA_DEBUG;\n",
       "  (function(spec, embedOpt){\n",
       "    let outputDiv = document.currentScript.previousElementSibling;\n",
       "    if (outputDiv.id !== \"altair-viz-a2955c0de5414b63a4a801468592084d\") {\n",
       "      outputDiv = document.getElementById(\"altair-viz-a2955c0de5414b63a4a801468592084d\");\n",
       "    }\n",
       "    const paths = {\n",
       "      \"vega\": \"https://cdn.jsdelivr.net/npm/vega@5?noext\",\n",
       "      \"vega-lib\": \"https://cdn.jsdelivr.net/npm/vega-lib?noext\",\n",
       "      \"vega-lite\": \"https://cdn.jsdelivr.net/npm/vega-lite@5.14.1?noext\",\n",
       "      \"vega-embed\": \"https://cdn.jsdelivr.net/npm/vega-embed@6?noext\",\n",
       "    };\n",
       "\n",
       "    function maybeLoadScript(lib, version) {\n",
       "      var key = `${lib.replace(\"-\", \"\")}_version`;\n",
       "      return (VEGA_DEBUG[key] == version) ?\n",
       "        Promise.resolve(paths[lib]) :\n",
       "        new Promise(function(resolve, reject) {\n",
       "          var s = document.createElement('script');\n",
       "          document.getElementsByTagName(\"head\")[0].appendChild(s);\n",
       "          s.async = true;\n",
       "          s.onload = () => {\n",
       "            VEGA_DEBUG[key] = version;\n",
       "            return resolve(paths[lib]);\n",
       "          };\n",
       "          s.onerror = () => reject(`Error loading script: ${paths[lib]}`);\n",
       "          s.src = paths[lib];\n",
       "        });\n",
       "    }\n",
       "\n",
       "    function showError(err) {\n",
       "      outputDiv.innerHTML = `<div class=\"error\" style=\"color:red;\">${err}</div>`;\n",
       "      throw err;\n",
       "    }\n",
       "\n",
       "    function displayChart(vegaEmbed) {\n",
       "      vegaEmbed(outputDiv, spec, embedOpt)\n",
       "        .catch(err => showError(`Javascript Error: ${err.message}<br>This usually means there's a typo in your chart specification. See the javascript console for the full traceback.`));\n",
       "    }\n",
       "\n",
       "    if(typeof define === \"function\" && define.amd) {\n",
       "      requirejs.config({paths});\n",
       "      require([\"vega-embed\"], displayChart, err => showError(`Error loading script: ${err.message}`));\n",
       "    } else {\n",
       "      maybeLoadScript(\"vega\", \"5\")\n",
       "        .then(() => maybeLoadScript(\"vega-lite\", \"5.14.1\"))\n",
       "        .then(() => maybeLoadScript(\"vega-embed\", \"6\"))\n",
       "        .catch(showError)\n",
       "        .then(() => displayChart(vegaEmbed));\n",
       "    }\n",
       "  })({\"config\": {\"view\": {\"continuousWidth\": 300, \"continuousHeight\": 300}}, \"data\": {\"name\": \"data-c728ffd1d17dba05ce0d5ce29d77cec4\"}, \"mark\": {\"type\": \"line\"}, \"encoding\": {\"x\": {\"field\": \"time\", \"type\": \"temporal\"}, \"y\": {\"field\": \"random_walk\", \"type\": \"quantitative\"}}, \"height\": 300, \"width\": 500, \"$schema\": \"https://vega.github.io/schema/vega-lite/v5.14.1.json\", \"datasets\": {\"data-c728ffd1d17dba05ce0d5ce29d77cec4\": [{\"time\": \"2022-01-01T00:00:00\", \"random_walk\": 0.8671385729889476}, {\"time\": \"2022-01-02T00:00:00\", \"random_walk\": -0.34333076866878875}, {\"time\": \"2022-01-03T00:00:00\", \"random_walk\": 2.0769118484387716}, {\"time\": \"2022-01-04T00:00:00\", \"random_walk\": 2.693365221636891}, {\"time\": \"2022-01-05T00:00:00\", \"random_walk\": 2.6711090232810917}, {\"time\": \"2022-01-06T00:00:00\", \"random_walk\": 2.8153936224472855}, {\"time\": \"2022-01-07T00:00:00\", \"random_walk\": 2.1884002333160293}, {\"time\": \"2022-01-08T00:00:00\", \"random_walk\": 1.5287534640009945}, {\"time\": \"2022-01-09T00:00:00\", \"random_walk\": 1.2452471700572092}, {\"time\": \"2022-01-10T00:00:00\", \"random_walk\": 1.3492593867052336}, {\"time\": \"2022-01-11T00:00:00\", \"random_walk\": 2.1995610231094567}, {\"time\": \"2022-01-12T00:00:00\", \"random_walk\": 1.2221348415318518}, {\"time\": \"2022-01-13T00:00:00\", \"random_walk\": 1.1501871773828463}, {\"time\": \"2022-01-14T00:00:00\", \"random_walk\": -0.4290487378737551}, {\"time\": \"2022-01-15T00:00:00\", \"random_walk\": 0.1333293047905003}, {\"time\": \"2022-01-16T00:00:00\", \"random_walk\": -1.5777070229857046}, {\"time\": \"2022-01-17T00:00:00\", \"random_walk\": -2.833005777852822}, {\"time\": \"2022-01-18T00:00:00\", \"random_walk\": -1.1746661472078417}, {\"time\": \"2022-01-19T00:00:00\", \"random_walk\": -2.7314254559089015}, {\"time\": \"2022-01-20T00:00:00\", \"random_walk\": -2.0090968107572382}, {\"time\": \"2022-01-21T00:00:00\", \"random_walk\": -2.132391202876502}, {\"time\": \"2022-01-22T00:00:00\", \"random_walk\": -0.920453520721578}, {\"time\": \"2022-01-23T00:00:00\", \"random_walk\": -2.0453511882891684}, {\"time\": \"2022-01-24T00:00:00\", \"random_walk\": -3.179476035036843}, {\"time\": \"2022-01-25T00:00:00\", \"random_walk\": -3.4196777390498108}, {\"time\": \"2022-01-26T00:00:00\", \"random_walk\": -2.3382480606561318}, {\"time\": \"2022-01-27T00:00:00\", \"random_walk\": -2.4018810877990715}, {\"time\": \"2022-01-28T00:00:00\", \"random_walk\": -3.5204285828396586}, {\"time\": \"2022-01-29T00:00:00\", \"random_walk\": -4.644453209978755}, {\"time\": \"2022-01-30T00:00:00\", \"random_walk\": -5.656661997750057}, {\"time\": \"2022-01-31T00:00:00\", \"random_walk\": -6.171997608363715}, {\"time\": \"2022-02-01T00:00:00\", \"random_walk\": -6.445777234065344}, {\"time\": \"2022-02-02T00:00:00\", \"random_walk\": -7.309986807221544}, {\"time\": \"2022-02-03T00:00:00\", \"random_walk\": -8.694434697166553}, {\"time\": \"2022-02-04T00:00:00\", \"random_walk\": -7.040461936962692}, {\"time\": \"2022-02-05T00:00:00\", \"random_walk\": -7.927886076822713}, {\"time\": \"2022-02-06T00:00:00\", \"random_walk\": -9.096442107415896}, {\"time\": \"2022-02-07T00:00:00\", \"random_walk\": -7.350985246027015}, {\"time\": \"2022-02-08T00:00:00\", \"random_walk\": -5.545594941903931}, {\"time\": \"2022-02-09T00:00:00\", \"random_walk\": -6.775127692030695}, {\"time\": \"2022-02-10T00:00:00\", \"random_walk\": -6.267511516676641}, {\"time\": \"2022-02-11T00:00:00\", \"random_walk\": -5.972327271284574}, {\"time\": \"2022-02-12T00:00:00\", \"random_walk\": -5.611088504101013}, {\"time\": \"2022-02-13T00:00:00\", \"random_walk\": -5.019302832000221}, {\"time\": \"2022-02-14T00:00:00\", \"random_walk\": -4.667823718813664}, {\"time\": \"2022-02-15T00:00:00\", \"random_walk\": -5.334092136539414}, {\"time\": \"2022-02-16T00:00:00\", \"random_walk\": -6.355790634316096}, {\"time\": \"2022-02-17T00:00:00\", \"random_walk\": -6.671887120277777}, {\"time\": \"2022-02-18T00:00:00\", \"random_walk\": -6.292006247171348}, {\"time\": \"2022-02-19T00:00:00\", \"random_walk\": -7.01868895204477}, {\"time\": \"2022-02-20T00:00:00\", \"random_walk\": -8.076381804193813}, {\"time\": \"2022-02-21T00:00:00\", \"random_walk\": -8.561189174986534}, {\"time\": \"2022-02-22T00:00:00\", \"random_walk\": -9.707013767006767}, {\"time\": \"2022-02-23T00:00:00\", \"random_walk\": -11.89246491432186}, {\"time\": \"2022-02-24T00:00:00\", \"random_walk\": -10.579916677861696}, {\"time\": \"2022-02-25T00:00:00\", \"random_walk\": -11.178134411285843}, {\"time\": \"2022-02-26T00:00:00\", \"random_walk\": -11.246373630092394}, {\"time\": \"2022-02-27T00:00:00\", \"random_walk\": -10.163343284461627}, {\"time\": \"2022-02-28T00:00:00\", \"random_walk\": -10.165754156349866}, {\"time\": \"2022-03-01T00:00:00\", \"random_walk\": -11.331263186134223}, {\"time\": \"2022-03-02T00:00:00\", \"random_walk\": -12.038551702369862}, {\"time\": \"2022-03-03T00:00:00\", \"random_walk\": -11.839146168806591}, {\"time\": \"2022-03-04T00:00:00\", \"random_walk\": -11.715569574530356}, {\"time\": \"2022-03-05T00:00:00\", \"random_walk\": -12.528979483818208}, {\"time\": \"2022-03-06T00:00:00\", \"random_walk\": -11.251749979436568}, {\"time\": \"2022-03-07T00:00:00\", \"random_walk\": -10.573183735011783}, {\"time\": \"2022-03-08T00:00:00\", \"random_walk\": -10.382843021329437}, {\"time\": \"2022-03-09T00:00:00\", \"random_walk\": -9.935870705586597}, {\"time\": \"2022-03-10T00:00:00\", \"random_walk\": -11.66173284403449}, {\"time\": \"2022-03-11T00:00:00\", \"random_walk\": -9.018945245227968}, {\"time\": \"2022-03-12T00:00:00\", \"random_walk\": -7.521054595103325}, {\"time\": \"2022-03-13T00:00:00\", \"random_walk\": -8.05221202397584}, {\"time\": \"2022-03-14T00:00:00\", \"random_walk\": -7.676676329506501}, {\"time\": \"2022-03-15T00:00:00\", \"random_walk\": -8.50802037133562}, {\"time\": \"2022-03-16T00:00:00\", \"random_walk\": -8.515253381347316}, {\"time\": \"2022-03-17T00:00:00\", \"random_walk\": -9.54838715819725}, {\"time\": \"2022-03-18T00:00:00\", \"random_walk\": -10.461105544395785}, {\"time\": \"2022-03-19T00:00:00\", \"random_walk\": -9.495174588101913}, {\"time\": \"2022-03-20T00:00:00\", \"random_walk\": -8.650906010366322}, {\"time\": \"2022-03-21T00:00:00\", \"random_walk\": -9.98399223394851}, {\"time\": \"2022-03-22T00:00:00\", \"random_walk\": -9.522518206033507}, {\"time\": \"2022-03-23T00:00:00\", \"random_walk\": -7.735786730966486}, {\"time\": \"2022-03-24T00:00:00\", \"random_walk\": -7.530182775549939}, {\"time\": \"2022-03-25T00:00:00\", \"random_walk\": -7.291645788789703}, {\"time\": \"2022-03-26T00:00:00\", \"random_walk\": -4.516781477014163}, {\"time\": \"2022-03-27T00:00:00\", \"random_walk\": -3.2867512084930333}, {\"time\": \"2022-03-28T00:00:00\", \"random_walk\": -2.716575443319995}, {\"time\": \"2022-03-29T00:00:00\", \"random_walk\": -3.338557645534611}, {\"time\": \"2022-03-30T00:00:00\", \"random_walk\": -2.8941308882461123}, {\"time\": \"2022-03-31T00:00:00\", \"random_walk\": -2.339518136134981}, {\"time\": \"2022-04-01T00:00:00\", \"random_walk\": -1.7899305468530715}, {\"time\": \"2022-04-02T00:00:00\", \"random_walk\": -1.5159634409432503}, {\"time\": \"2022-04-03T00:00:00\", \"random_walk\": -1.144688778935892}, {\"time\": \"2022-04-04T00:00:00\", \"random_walk\": -0.8585474863447029}, {\"time\": \"2022-04-05T00:00:00\", \"random_walk\": -2.188049286608445}, {\"time\": \"2022-04-06T00:00:00\", \"random_walk\": -3.9167204509052462}, {\"time\": \"2022-04-07T00:00:00\", \"random_walk\": -3.5211892329094625}, {\"time\": \"2022-04-08T00:00:00\", \"random_walk\": -3.827596510982641}, {\"time\": \"2022-04-09T00:00:00\", \"random_walk\": -5.639900735159007}, {\"time\": \"2022-04-10T00:00:00\", \"random_walk\": -5.604115386863495}, {\"time\": \"2022-04-11T00:00:00\", \"random_walk\": -6.485435043777298}, {\"time\": \"2022-04-12T00:00:00\", \"random_walk\": -6.993425996643279}, {\"time\": \"2022-04-13T00:00:00\", \"random_walk\": -5.354052977199683}, {\"time\": \"2022-04-14T00:00:00\", \"random_walk\": -5.759353788614223}, {\"time\": \"2022-04-15T00:00:00\", \"random_walk\": -5.978387855192705}, {\"time\": \"2022-04-16T00:00:00\", \"random_walk\": -3.8325330030751297}, {\"time\": \"2022-04-17T00:00:00\", \"random_walk\": -3.2368460189975448}, {\"time\": \"2022-04-18T00:00:00\", \"random_walk\": -2.664686513366398}, {\"time\": \"2022-04-19T00:00:00\", \"random_walk\": -2.0590289325165974}, {\"time\": \"2022-04-20T00:00:00\", \"random_walk\": -2.475348370458861}, {\"time\": \"2022-04-21T00:00:00\", \"random_walk\": -2.4543513832935173}, {\"time\": \"2022-04-22T00:00:00\", \"random_walk\": -2.975575970969806}, {\"time\": \"2022-04-23T00:00:00\", \"random_walk\": -3.3950869510823694}, {\"time\": \"2022-04-24T00:00:00\", \"random_walk\": -4.113308132464474}, {\"time\": \"2022-04-25T00:00:00\", \"random_walk\": -3.3417777257873045}, {\"time\": \"2022-04-26T00:00:00\", \"random_walk\": -1.5156186854536882}, {\"time\": \"2022-04-27T00:00:00\", \"random_walk\": -1.107903214290222}, {\"time\": \"2022-04-28T00:00:00\", \"random_walk\": -2.6429871206466515}, {\"time\": \"2022-04-29T00:00:00\", \"random_walk\": -2.5338308109439533}, {\"time\": \"2022-04-30T00:00:00\", \"random_walk\": -2.2953769267079673}, {\"time\": \"2022-05-01T00:00:00\", \"random_walk\": -4.193014750984425}, {\"time\": \"2022-05-02T00:00:00\", \"random_walk\": -3.8820298238756745}, {\"time\": \"2022-05-03T00:00:00\", \"random_walk\": -3.6417466377606225}, {\"time\": \"2022-05-04T00:00:00\", \"random_walk\": -4.857634271946758}, {\"time\": \"2022-05-05T00:00:00\", \"random_walk\": -3.3885671086103075}, {\"time\": \"2022-05-06T00:00:00\", \"random_walk\": -4.172721508501465}, {\"time\": \"2022-05-07T00:00:00\", \"random_walk\": -3.31545045903349}, {\"time\": \"2022-05-08T00:00:00\", \"random_walk\": -5.206577452133452}, {\"time\": \"2022-05-09T00:00:00\", \"random_walk\": -5.532946137521691}, {\"time\": \"2022-05-10T00:00:00\", \"random_walk\": -6.051335696485302}, {\"time\": \"2022-05-11T00:00:00\", \"random_walk\": -4.332368312073522}, {\"time\": \"2022-05-12T00:00:00\", \"random_walk\": -4.324946648402412}, {\"time\": \"2022-05-13T00:00:00\", \"random_walk\": -4.075579712723285}, {\"time\": \"2022-05-14T00:00:00\", \"random_walk\": -3.4170412516022237}, {\"time\": \"2022-05-15T00:00:00\", \"random_walk\": -4.171982960467253}, {\"time\": \"2022-05-16T00:00:00\", \"random_walk\": -2.843496251052632}, {\"time\": \"2022-05-17T00:00:00\", \"random_walk\": -2.2229618456060436}, {\"time\": \"2022-05-18T00:00:00\", \"random_walk\": -3.224568718802047}, {\"time\": \"2022-05-19T00:00:00\", \"random_walk\": -1.9877332270794101}, {\"time\": \"2022-05-20T00:00:00\", \"random_walk\": -1.8349356448502838}, {\"time\": \"2022-05-21T00:00:00\", \"random_walk\": -1.1408525278748929}, {\"time\": \"2022-05-22T00:00:00\", \"random_walk\": -1.7096875805385312}, {\"time\": \"2022-05-23T00:00:00\", \"random_walk\": -1.943675841503358}, {\"time\": \"2022-05-24T00:00:00\", \"random_walk\": -3.781952166552326}, {\"time\": \"2022-05-25T00:00:00\", \"random_walk\": -4.406654749349388}, {\"time\": \"2022-05-26T00:00:00\", \"random_walk\": -6.515395368971301}, {\"time\": \"2022-05-27T00:00:00\", \"random_walk\": -7.066680207501191}, {\"time\": \"2022-05-28T00:00:00\", \"random_walk\": -6.579879982007381}, {\"time\": \"2022-05-29T00:00:00\", \"random_walk\": -6.728151929633166}, {\"time\": \"2022-05-30T00:00:00\", \"random_walk\": -9.067681519370364}, {\"time\": \"2022-05-31T00:00:00\", \"random_walk\": -8.576943330756706}, {\"time\": \"2022-06-01T00:00:00\", \"random_walk\": -8.305316644898737}, {\"time\": \"2022-06-02T00:00:00\", \"random_walk\": -8.031509748086302}, {\"time\": \"2022-06-03T00:00:00\", \"random_walk\": -7.803653160576863}, {\"time\": \"2022-06-04T00:00:00\", \"random_walk\": -6.842630200822658}, {\"time\": \"2022-06-05T00:00:00\", \"random_walk\": -4.587954337370812}, {\"time\": \"2022-06-06T00:00:00\", \"random_walk\": -5.5888430654699}, {\"time\": \"2022-06-07T00:00:00\", \"random_walk\": -4.693105474601592}, {\"time\": \"2022-06-08T00:00:00\", \"random_walk\": -4.792607289637309}, {\"time\": \"2022-06-09T00:00:00\", \"random_walk\": -5.27914595432442}, {\"time\": \"2022-06-10T00:00:00\", \"random_walk\": -5.468224367500716}, {\"time\": \"2022-06-11T00:00:00\", \"random_walk\": -7.1572028739104265}, {\"time\": \"2022-06-12T00:00:00\", \"random_walk\": -8.444991671571014}, {\"time\": \"2022-06-13T00:00:00\", \"random_walk\": -8.482477560249878}, {\"time\": \"2022-06-14T00:00:00\", \"random_walk\": -9.456161864560057}, {\"time\": \"2022-06-15T00:00:00\", \"random_walk\": -9.400306201273649}, {\"time\": \"2022-06-16T00:00:00\", \"random_walk\": -9.698848720284754}, {\"time\": \"2022-06-17T00:00:00\", \"random_walk\": -9.337856863867435}, {\"time\": \"2022-06-18T00:00:00\", \"random_walk\": -7.901184529046818}, {\"time\": \"2022-06-19T00:00:00\", \"random_walk\": -8.035747008172898}, {\"time\": \"2022-06-20T00:00:00\", \"random_walk\": -9.522962974192318}, {\"time\": \"2022-06-21T00:00:00\", \"random_walk\": -9.590196730444326}, {\"time\": \"2022-06-22T00:00:00\", \"random_walk\": -9.983333691504042}, {\"time\": \"2022-06-23T00:00:00\", \"random_walk\": -9.36242028146432}, {\"time\": \"2022-06-24T00:00:00\", \"random_walk\": -9.140997180429654}, {\"time\": \"2022-06-25T00:00:00\", \"random_walk\": -10.685766592261965}, {\"time\": \"2022-06-26T00:00:00\", \"random_walk\": -9.11047132475498}, {\"time\": \"2022-06-27T00:00:00\", \"random_walk\": -7.788266406982439}, {\"time\": \"2022-06-28T00:00:00\", \"random_walk\": -8.382036061715706}, {\"time\": \"2022-06-29T00:00:00\", \"random_walk\": -7.747326373785331}, {\"time\": \"2022-06-30T00:00:00\", \"random_walk\": -9.472996755462896}, {\"time\": \"2022-07-01T00:00:00\", \"random_walk\": -11.568267062657485}, {\"time\": \"2022-07-02T00:00:00\", \"random_walk\": -13.479043463870967}, {\"time\": \"2022-07-03T00:00:00\", \"random_walk\": -14.604461790595654}, {\"time\": \"2022-07-04T00:00:00\", \"random_walk\": -15.146279980288778}, {\"time\": \"2022-07-05T00:00:00\", \"random_walk\": -13.908917945621873}, {\"time\": \"2022-07-06T00:00:00\", \"random_walk\": -13.19186470463909}, {\"time\": \"2022-07-07T00:00:00\", \"random_walk\": -12.837575944623673}, {\"time\": \"2022-07-08T00:00:00\", \"random_walk\": -12.470354933851917}, {\"time\": \"2022-07-09T00:00:00\", \"random_walk\": -12.016539834096706}, {\"time\": \"2022-07-10T00:00:00\", \"random_walk\": -13.208332083737861}, {\"time\": \"2022-07-11T00:00:00\", \"random_walk\": -11.716189945322274}, {\"time\": \"2022-07-12T00:00:00\", \"random_walk\": -11.836016208639581}, {\"time\": \"2022-07-13T00:00:00\", \"random_walk\": -13.321977270454353}, {\"time\": \"2022-07-14T00:00:00\", \"random_walk\": -13.397397892640484}, {\"time\": \"2022-07-15T00:00:00\", \"random_walk\": -11.067510934664679}, {\"time\": \"2022-07-16T00:00:00\", \"random_walk\": -11.693478574565393}, {\"time\": \"2022-07-17T00:00:00\", \"random_walk\": -11.602983580278158}, {\"time\": \"2022-07-18T00:00:00\", \"random_walk\": -9.499898145558687}, {\"time\": \"2022-07-19T00:00:00\", \"random_walk\": -11.424479798676137}, {\"time\": \"2022-07-20T00:00:00\", \"random_walk\": -12.019365573799904}, {\"time\": \"2022-07-21T00:00:00\", \"random_walk\": -12.459771477825738}, {\"time\": \"2022-07-22T00:00:00\", \"random_walk\": -11.441104139442546}, {\"time\": \"2022-07-23T00:00:00\", \"random_walk\": -12.588205210383892}, {\"time\": \"2022-07-24T00:00:00\", \"random_walk\": -12.8548961174565}, {\"time\": \"2022-07-25T00:00:00\", \"random_walk\": -10.292625423450225}, {\"time\": \"2022-07-26T00:00:00\", \"random_walk\": -9.76184721889481}, {\"time\": \"2022-07-27T00:00:00\", \"random_walk\": -9.251755675752522}, {\"time\": \"2022-07-28T00:00:00\", \"random_walk\": -8.293674513152135}, {\"time\": \"2022-07-29T00:00:00\", \"random_walk\": -7.748523720429029}, {\"time\": \"2022-07-30T00:00:00\", \"random_walk\": -8.125688597520723}, {\"time\": \"2022-07-31T00:00:00\", \"random_walk\": -6.778712002578115}, {\"time\": \"2022-08-01T00:00:00\", \"random_walk\": -7.729418491112574}, {\"time\": \"2022-08-02T00:00:00\", \"random_walk\": -7.541677609177565}, {\"time\": \"2022-08-03T00:00:00\", \"random_walk\": -8.061331004741605}, {\"time\": \"2022-08-04T00:00:00\", \"random_walk\": -8.362683038368118}, {\"time\": \"2022-08-05T00:00:00\", \"random_walk\": -7.575029686949212}, {\"time\": \"2022-08-06T00:00:00\", \"random_walk\": -7.681218338973587}, {\"time\": \"2022-08-07T00:00:00\", \"random_walk\": -6.556982438853996}, {\"time\": \"2022-08-08T00:00:00\", \"random_walk\": -6.602910197448507}, {\"time\": \"2022-08-09T00:00:00\", \"random_walk\": -6.08057416710311}, {\"time\": \"2022-08-10T00:00:00\", \"random_walk\": -5.210763529059234}, {\"time\": \"2022-08-11T00:00:00\", \"random_walk\": -6.516258809463039}, {\"time\": \"2022-08-12T00:00:00\", \"random_walk\": -5.642293739256751}, {\"time\": \"2022-08-13T00:00:00\", \"random_walk\": -7.499669582158061}, {\"time\": \"2022-08-14T00:00:00\", \"random_walk\": -9.806434926532965}, {\"time\": \"2022-08-15T00:00:00\", \"random_walk\": -11.521676522341462}, {\"time\": \"2022-08-16T00:00:00\", \"random_walk\": -10.138260612337666}, {\"time\": \"2022-08-17T00:00:00\", \"random_walk\": -9.291735830742459}, {\"time\": \"2022-08-18T00:00:00\", \"random_walk\": -9.430692689904301}, {\"time\": \"2022-08-19T00:00:00\", \"random_walk\": -9.26959030733891}, {\"time\": \"2022-08-20T00:00:00\", \"random_walk\": -9.990994290535639}, {\"time\": \"2022-08-21T00:00:00\", \"random_walk\": -10.626879663989476}, {\"time\": \"2022-08-22T00:00:00\", \"random_walk\": -10.587550759574727}, {\"time\": \"2022-08-23T00:00:00\", \"random_walk\": -10.842928009845073}, {\"time\": \"2022-08-24T00:00:00\", \"random_walk\": -9.91538165680547}, {\"time\": \"2022-08-25T00:00:00\", \"random_walk\": -11.607036758254113}, {\"time\": \"2022-08-26T00:00:00\", \"random_walk\": -11.851786587669457}, {\"time\": \"2022-08-27T00:00:00\", \"random_walk\": -12.891124132559801}, {\"time\": \"2022-08-28T00:00:00\", \"random_walk\": -13.506323458179123}, {\"time\": \"2022-08-29T00:00:00\", \"random_walk\": -12.298873125615412}, {\"time\": \"2022-08-30T00:00:00\", \"random_walk\": -11.86302504598236}, {\"time\": \"2022-08-31T00:00:00\", \"random_walk\": -11.208033392370952}, {\"time\": \"2022-09-01T00:00:00\", \"random_walk\": -11.616020553725175}, {\"time\": \"2022-09-02T00:00:00\", \"random_walk\": -10.89324045036632}, {\"time\": \"2022-09-03T00:00:00\", \"random_walk\": -8.224651632663232}, {\"time\": \"2022-09-04T00:00:00\", \"random_walk\": -9.247756038668417}, {\"time\": \"2022-09-05T00:00:00\", \"random_walk\": -9.963882744908933}, {\"time\": \"2022-09-06T00:00:00\", \"random_walk\": -10.301683354255958}, {\"time\": \"2022-09-07T00:00:00\", \"random_walk\": -11.5658349662576}, {\"time\": \"2022-09-08T00:00:00\", \"random_walk\": -11.910753294330426}, {\"time\": \"2022-09-09T00:00:00\", \"random_walk\": -12.686768977551484}, {\"time\": \"2022-09-10T00:00:00\", \"random_walk\": -14.28598737697454}, {\"time\": \"2022-09-11T00:00:00\", \"random_walk\": -14.458875358598489}, {\"time\": \"2022-09-12T00:00:00\", \"random_walk\": -13.184316195193718}, {\"time\": \"2022-09-13T00:00:00\", \"random_walk\": -12.743336213732002}, {\"time\": \"2022-09-14T00:00:00\", \"random_walk\": -12.188188574809644}, {\"time\": \"2022-09-15T00:00:00\", \"random_walk\": -10.998666806391299}, {\"time\": \"2022-09-16T00:00:00\", \"random_walk\": -10.793243460769046}, {\"time\": \"2022-09-17T00:00:00\", \"random_walk\": -10.28624947860669}, {\"time\": \"2022-09-18T00:00:00\", \"random_walk\": -12.093894985680365}, {\"time\": \"2022-09-19T00:00:00\", \"random_walk\": -12.840780477657216}, {\"time\": \"2022-09-20T00:00:00\", \"random_walk\": -11.894324280510823}, {\"time\": \"2022-09-21T00:00:00\", \"random_walk\": -11.254832975057553}, {\"time\": \"2022-09-22T00:00:00\", \"random_walk\": -13.479597214437266}, {\"time\": \"2022-09-23T00:00:00\", \"random_walk\": -16.209089447495668}, {\"time\": \"2022-09-24T00:00:00\", \"random_walk\": -16.446517934581998}, {\"time\": \"2022-09-25T00:00:00\", \"random_walk\": -16.124684118484517}, {\"time\": \"2022-09-26T00:00:00\", \"random_walk\": -16.25262554600862}, {\"time\": \"2022-09-27T00:00:00\", \"random_walk\": -15.0605994919083}, {\"time\": \"2022-09-28T00:00:00\", \"random_walk\": -15.64458235235802}, {\"time\": \"2022-09-29T00:00:00\", \"random_walk\": -14.810477094844693}, {\"time\": \"2022-09-30T00:00:00\", \"random_walk\": -16.341439113437158}, {\"time\": \"2022-10-01T00:00:00\", \"random_walk\": -16.242157817228964}, {\"time\": \"2022-10-02T00:00:00\", \"random_walk\": -16.56996108546413}, {\"time\": \"2022-10-03T00:00:00\", \"random_walk\": -17.199489922096593}, {\"time\": \"2022-10-04T00:00:00\", \"random_walk\": -17.116441764293054}, {\"time\": \"2022-10-05T00:00:00\", \"random_walk\": -16.445442505012355}, {\"time\": \"2022-10-06T00:00:00\", \"random_walk\": -14.968096406901077}, {\"time\": \"2022-10-07T00:00:00\", \"random_walk\": -15.021262953849483}, {\"time\": \"2022-10-08T00:00:00\", \"random_walk\": -14.526205111169956}, {\"time\": \"2022-10-09T00:00:00\", \"random_walk\": -14.059222517077295}, {\"time\": \"2022-10-10T00:00:00\", \"random_walk\": -13.2894713072413}, {\"time\": \"2022-10-11T00:00:00\", \"random_walk\": -14.279005839456847}, {\"time\": \"2022-10-12T00:00:00\", \"random_walk\": -14.080306413574496}, {\"time\": \"2022-10-13T00:00:00\", \"random_walk\": -15.225714378754748}, {\"time\": \"2022-10-14T00:00:00\", \"random_walk\": -14.347822498185781}, {\"time\": \"2022-10-15T00:00:00\", \"random_walk\": -15.886496298372045}, {\"time\": \"2022-10-16T00:00:00\", \"random_walk\": -15.121725905582947}, {\"time\": \"2022-10-17T00:00:00\", \"random_walk\": -14.960458041352389}, {\"time\": \"2022-10-18T00:00:00\", \"random_walk\": -16.868298653695106}, {\"time\": \"2022-10-19T00:00:00\", \"random_walk\": -15.591828046859877}, {\"time\": \"2022-10-20T00:00:00\", \"random_walk\": -13.98475819121975}, {\"time\": \"2022-10-21T00:00:00\", \"random_walk\": -12.250141599432073}, {\"time\": \"2022-10-22T00:00:00\", \"random_walk\": -13.442736765721333}, {\"time\": \"2022-10-23T00:00:00\", \"random_walk\": -12.06549755063927}, {\"time\": \"2022-10-24T00:00:00\", \"random_walk\": -11.543692615234962}, {\"time\": \"2022-10-25T00:00:00\", \"random_walk\": -10.84480286173726}, {\"time\": \"2022-10-26T00:00:00\", \"random_walk\": -11.451059228128242}, {\"time\": \"2022-10-27T00:00:00\", \"random_walk\": -10.762805141092112}, {\"time\": \"2022-10-28T00:00:00\", \"random_walk\": -10.878611291330689}, {\"time\": \"2022-10-29T00:00:00\", \"random_walk\": -10.450299507017995}, {\"time\": \"2022-10-30T00:00:00\", \"random_walk\": -10.182605486877392}, {\"time\": \"2022-10-31T00:00:00\", \"random_walk\": -9.327797974029078}, {\"time\": \"2022-11-01T00:00:00\", \"random_walk\": -9.822406925831446}, {\"time\": \"2022-11-02T00:00:00\", \"random_walk\": -9.963451910973003}, {\"time\": \"2022-11-03T00:00:00\", \"random_walk\": -9.537706196494677}, {\"time\": \"2022-11-04T00:00:00\", \"random_walk\": -9.383735372875213}, {\"time\": \"2022-11-05T00:00:00\", \"random_walk\": -8.381319455829294}, {\"time\": \"2022-11-06T00:00:00\", \"random_walk\": -7.422427950784581}, {\"time\": \"2022-11-07T00:00:00\", \"random_walk\": -6.691442929897065}, {\"time\": \"2022-11-08T00:00:00\", \"random_walk\": -5.523230612216011}, {\"time\": \"2022-11-09T00:00:00\", \"random_walk\": -3.2707554460018695}, {\"time\": \"2022-11-10T00:00:00\", \"random_walk\": -2.547696906675543}, {\"time\": \"2022-11-11T00:00:00\", \"random_walk\": -3.0381919493869076}, {\"time\": \"2022-11-12T00:00:00\", \"random_walk\": -1.5668268102127179}, {\"time\": \"2022-11-13T00:00:00\", \"random_walk\": -0.010388723196297134}, {\"time\": \"2022-11-14T00:00:00\", \"random_walk\": 0.34912311397878903}, {\"time\": \"2022-11-15T00:00:00\", \"random_walk\": 1.7375684937437796}, {\"time\": \"2022-11-16T00:00:00\", \"random_walk\": 2.4026259638884904}, {\"time\": \"2022-11-17T00:00:00\", \"random_walk\": 2.4011344582376077}, {\"time\": \"2022-11-18T00:00:00\", \"random_walk\": 2.8148755524772304}, {\"time\": \"2022-11-19T00:00:00\", \"random_walk\": 1.3196317423697816}, {\"time\": \"2022-11-20T00:00:00\", \"random_walk\": 1.3653465663999877}, {\"time\": \"2022-11-21T00:00:00\", \"random_walk\": 1.4594620993912522}, {\"time\": \"2022-11-22T00:00:00\", \"random_walk\": -0.04838291687171714}, {\"time\": \"2022-11-23T00:00:00\", \"random_walk\": -0.9188137270812634}, {\"time\": \"2022-11-24T00:00:00\", \"random_walk\": -0.13676248246535283}, {\"time\": \"2022-11-25T00:00:00\", \"random_walk\": 0.5880402871095833}, {\"time\": \"2022-11-26T00:00:00\", \"random_walk\": 1.5745043027439922}, {\"time\": \"2022-11-27T00:00:00\", \"random_walk\": 2.162782246279643}, {\"time\": \"2022-11-28T00:00:00\", \"random_walk\": 1.4249500631663008}, {\"time\": \"2022-11-29T00:00:00\", \"random_walk\": 2.2455572580480094}, {\"time\": \"2022-11-30T00:00:00\", \"random_walk\": 3.5440209869396715}, {\"time\": \"2022-12-01T00:00:00\", \"random_walk\": 2.1763769496424477}, {\"time\": \"2022-12-02T00:00:00\", \"random_walk\": 1.9398260771085163}, {\"time\": \"2022-12-03T00:00:00\", \"random_walk\": 0.9353509579607238}, {\"time\": \"2022-12-04T00:00:00\", \"random_walk\": -0.3102057959100806}, {\"time\": \"2022-12-05T00:00:00\", \"random_walk\": -1.249213511342067}, {\"time\": \"2022-12-06T00:00:00\", \"random_walk\": -0.4046602655698861}, {\"time\": \"2022-12-07T00:00:00\", \"random_walk\": -0.6252431413036748}, {\"time\": \"2022-12-08T00:00:00\", \"random_walk\": -0.7696020429711645}, {\"time\": \"2022-12-09T00:00:00\", \"random_walk\": -2.0403813495182894}, {\"time\": \"2022-12-10T00:00:00\", \"random_walk\": -1.4526144919841972}, {\"time\": \"2022-12-11T00:00:00\", \"random_walk\": -1.1264674736998426}, {\"time\": \"2022-12-12T00:00:00\", \"random_walk\": -0.8040850070314256}, {\"time\": \"2022-12-13T00:00:00\", \"random_walk\": -1.838972246394682}, {\"time\": \"2022-12-14T00:00:00\", \"random_walk\": -1.4819922412456057}, {\"time\": \"2022-12-15T00:00:00\", \"random_walk\": -0.9508187438767857}, {\"time\": \"2022-12-16T00:00:00\", \"random_walk\": -1.4006796132755621}, {\"time\": \"2022-12-17T00:00:00\", \"random_walk\": -0.980720728216955}, {\"time\": \"2022-12-18T00:00:00\", \"random_walk\": -1.1626691868536565}, {\"time\": \"2022-12-19T00:00:00\", \"random_walk\": -1.2023699708480624}, {\"time\": \"2022-12-20T00:00:00\", \"random_walk\": -0.6956355898344206}, {\"time\": \"2022-12-21T00:00:00\", \"random_walk\": -0.7489344725191157}, {\"time\": \"2022-12-22T00:00:00\", \"random_walk\": -2.315596774494155}, {\"time\": \"2022-12-23T00:00:00\", \"random_walk\": -3.596768174105263}, {\"time\": \"2022-12-24T00:00:00\", \"random_walk\": -4.74446097689256}, {\"time\": \"2022-12-25T00:00:00\", \"random_walk\": -6.04324306109654}, {\"time\": \"2022-12-26T00:00:00\", \"random_walk\": -4.672107085561954}, {\"time\": \"2022-12-27T00:00:00\", \"random_walk\": -2.9631238773890316}, {\"time\": \"2022-12-28T00:00:00\", \"random_walk\": -1.5574490141255042}, {\"time\": \"2022-12-29T00:00:00\", \"random_walk\": -0.6780513592742051}, {\"time\": \"2022-12-30T00:00:00\", \"random_walk\": 0.2091792086726294}, {\"time\": \"2022-12-31T00:00:00\", \"random_walk\": 0.3605122573559839}]}}, {\"mode\": \"vega-lite\"});\n",
       "</script>"
      ],
      "text/plain": [
       "alt.Chart(...)"
      ]
     },
     "execution_count": 84,
     "metadata": {},
     "output_type": "execute_result"
    }
   ],
   "source": [
    "plot(ts)"
   ]
  },
  {
   "cell_type": "markdown",
   "id": "f9313d04-36ea-440f-81ef-c628118a7efc",
   "metadata": {},
   "source": [
    "## Study Seaborn new API"
   ]
  },
  {
   "cell_type": "markdown",
   "id": "d8a56ec5-792b-42b3-861a-c21d1248e194",
   "metadata": {},
   "source": [
    "Example of the syntax\n",
    "\n",
    "\n",
    "    (\n",
    "        so.Plot(penguins, x=\"species\", y=\"body_mass_g\", color=\"sex\")\n",
    "        .add(so.Dot(pointsize=10), so.Agg())\n",
    "    )\n",
    "\n",
    "With this API, you always add a plot with `so.Plot(data, x=str, y=str)`, then you add something to it with the `.add(Mark, Stat)` function.\n",
    "\n",
    "`Mark` is an object that graphically represents data values. For instance : `so.Bar()`, `so.Line()`, `so.Dot()`.\n",
    "\n",
    "`Stat` is an object that is a statistical transformation. For instance : `so.Agg()`, `so.Dodge()`, `so.Jitter(.3)`, `so.Hist()`.\n",
    "\n",
    "In the add function, only one Mark can be added but as many Stat as desired can be added as parameter.|\n",
    "\n"
   ]
  },
  {
   "cell_type": "code",
   "execution_count": null,
   "id": "b90fab39-26d3-45c0-88b5-edd17b3f80ae",
   "metadata": {},
   "outputs": [],
   "source": []
  }
 ],
 "metadata": {
  "kernelspec": {
   "display_name": "Python 3 (ipykernel)",
   "language": "python",
   "name": "python3"
  },
  "language_info": {
   "codemirror_mode": {
    "name": "ipython",
    "version": 3
   },
   "file_extension": ".py",
   "mimetype": "text/x-python",
   "name": "python",
   "nbconvert_exporter": "python",
   "pygments_lexer": "ipython3",
   "version": "3.10.10"
  }
 },
 "nbformat": 4,
 "nbformat_minor": 5
}
